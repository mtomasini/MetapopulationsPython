{
 "cells": [
  {
   "cell_type": "code",
   "execution_count": 26,
   "metadata": {},
   "outputs": [],
   "source": [
    "import metapypulation.subpopulation\n",
    "import metapypulation.individual\n",
    "import numpy as np\n",
    "import random\n",
    "import matplotlib.pyplot as plt\n",
    "import pandas as pd\n",
    "from metapypulation.metapopulation import Metapopulation\n"
   ]
  },
  {
   "cell_type": "code",
   "execution_count": 27,
   "metadata": {},
   "outputs": [],
   "source": [
    "\n",
    "migrations = np.genfromtxt('./configs/island_model.csv', delimiter=',')\n",
    "\n",
    "migrations = migrations\n",
    "\n",
    "metapop = Metapopulation(4, migrations)\n",
    "metapop.populate()"
   ]
  },
  {
   "cell_type": "code",
   "execution_count": 29,
   "metadata": {},
   "outputs": [
    {
     "name": "stdout",
     "output_type": "stream",
     "text": [
      "Gen 0!\n",
      "The current size of pop 0 is 100\n",
      "The current deme index present in population 0 are [0] with [100] counts.\n",
      "The current size of pop 1 is 100\n",
      "The current deme index present in population 1 are [1] with [100] counts.\n",
      "The current size of pop 2 is 100\n",
      "The current deme index present in population 2 are [2] with [100] counts.\n",
      "The current size of pop 3 is 100\n",
      "The current deme index present in population 3 are [3] with [100] counts.\n",
      "Gen 200!\n",
      "The current size of pop 0 is 97\n",
      "The current deme index present in population 0 are [0 1 2 3] with [56  9 14 18] counts.\n",
      "The current size of pop 1 is 105\n",
      "The current deme index present in population 1 are [0 1 2 3] with [16 66 13 10] counts.\n",
      "The current size of pop 2 is 99\n",
      "The current deme index present in population 2 are [0 1 2 3] with [16 11 54 18] counts.\n",
      "The current size of pop 3 is 99\n",
      "The current deme index present in population 3 are [0 1 2 3] with [12 14 19 54] counts.\n",
      "Gen 400!\n",
      "The current size of pop 0 is 112\n",
      "The current deme index present in population 0 are [0 1 2 3] with [38 18 29 27] counts.\n",
      "The current size of pop 1 is 97\n",
      "The current deme index present in population 1 are [0 1 2 3] with [21 42 19 15] counts.\n",
      "The current size of pop 2 is 92\n",
      "The current deme index present in population 2 are [0 1 2 3] with [22 17 33 20] counts.\n",
      "The current size of pop 3 is 99\n",
      "The current deme index present in population 3 are [0 1 2 3] with [19 23 19 38] counts.\n",
      "Gen 600!\n",
      "The current size of pop 0 is 119\n",
      "The current deme index present in population 0 are [0 1 2 3] with [39 27 35 18] counts.\n",
      "The current size of pop 1 is 87\n",
      "The current deme index present in population 1 are [0 1 2 3] with [21 27 27 12] counts.\n",
      "The current size of pop 2 is 96\n",
      "The current deme index present in population 2 are [0 1 2 3] with [19 20 20 37] counts.\n",
      "The current size of pop 3 is 98\n",
      "The current deme index present in population 3 are [0 1 2 3] with [21 26 18 33] counts.\n",
      "Gen 800!\n",
      "The current size of pop 0 is 93\n",
      "The current deme index present in population 0 are [0 1 2 3] with [32 23 20 18] counts.\n",
      "The current size of pop 1 is 108\n",
      "The current deme index present in population 1 are [0 1 2 3] with [22 31 33 22] counts.\n",
      "The current size of pop 2 is 102\n",
      "The current deme index present in population 2 are [0 1 2 3] with [19 25 23 35] counts.\n",
      "The current size of pop 3 is 97\n",
      "The current deme index present in population 3 are [0 1 2 3] with [27 21 24 25] counts.\n"
     ]
    }
   ],
   "source": [
    "for t in range(1000):\n",
    "    if t%200 == 0:\n",
    "        print(f\"Gen {t}!\")\n",
    "        for subpopulation in metapop.subpopulations:\n",
    "            print(f\"The current size of pop {subpopulation.id} is {subpopulation.get_population_size()}\")\n",
    "            sub_id = []\n",
    "            for ind in subpopulation.population.individuals:\n",
    "                sub_id.append(ind.original_deme_id)\n",
    "            indexes, counts = np.unique(sub_id, return_counts=True)\n",
    "            print(f\"The current deme index present in population {subpopulation.id} are {indexes} with {counts} counts.\")\n",
    "    \n",
    "    metapop.migrate()"
   ]
  },
  {
   "cell_type": "code",
   "execution_count": null,
   "metadata": {},
   "outputs": [],
   "source": []
  }
 ],
 "metadata": {
  "kernelspec": {
   "display_name": "abm",
   "language": "python",
   "name": "python3"
  },
  "language_info": {
   "codemirror_mode": {
    "name": "ipython",
    "version": 3
   },
   "file_extension": ".py",
   "mimetype": "text/x-python",
   "name": "python",
   "nbconvert_exporter": "python",
   "pygments_lexer": "ipython3",
   "version": "3.12.3"
  }
 },
 "nbformat": 4,
 "nbformat_minor": 2
}
