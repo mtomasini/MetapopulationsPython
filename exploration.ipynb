{
 "cells": [
  {
   "cell_type": "code",
   "execution_count": 1,
   "metadata": {},
   "outputs": [],
   "source": [
    "import metapypulation.subpopulation\n",
    "import metapypulation.individual\n",
    "import numpy as np\n",
    "import random\n"
   ]
  },
  {
   "cell_type": "code",
   "execution_count": 2,
   "metadata": {},
   "outputs": [],
   "source": [
    "deme_1 = metapypulation.subpopulation.Subpopulation(1, [1,1])\n",
    "deme_2 = metapypulation.subpopulation.Subpopulation(2, [1,2])\n",
    "for i in range(100):\n",
    "    individual = metapypulation.individual.Individual(i, 1, 5, 10)\n",
    "    deme_1.population.add(individual)\n",
    "for i in range(100):    \n",
    "    individual = metapypulation.individual.Individual(i, 2, 5, 10)\n",
    "    deme_2.population.add(individual)\n",
    "    \n"
   ]
  },
  {
   "cell_type": "code",
   "execution_count": 3,
   "metadata": {},
   "outputs": [
    {
     "name": "stdout",
     "output_type": "stream",
     "text": [
      "There are 11 migrants from deme 1, and 10 from deme 2.\n"
     ]
    },
    {
     "ename": "TypeError",
     "evalue": "list indices must be integers or slices, not Individual",
     "output_type": "error",
     "traceback": [
      "\u001b[0;31m---------------------------------------------------------------------------\u001b[0m",
      "\u001b[0;31mTypeError\u001b[0m                                 Traceback (most recent call last)",
      "Cell \u001b[0;32mIn[3], line 9\u001b[0m\n\u001b[1;32m      5\u001b[0m migrants_2 \u001b[38;5;241m=\u001b[39m deme_2\u001b[38;5;241m.\u001b[39mget_current_number_of_migrants()\n\u001b[1;32m      7\u001b[0m \u001b[38;5;28mprint\u001b[39m(\u001b[38;5;124mf\u001b[39m\u001b[38;5;124m\"\u001b[39m\u001b[38;5;124mThere are \u001b[39m\u001b[38;5;132;01m{\u001b[39;00mmigrants_1\u001b[38;5;132;01m}\u001b[39;00m\u001b[38;5;124m migrants from deme 1, and \u001b[39m\u001b[38;5;132;01m{\u001b[39;00mmigrants_2\u001b[38;5;132;01m}\u001b[39;00m\u001b[38;5;124m from deme 2.\u001b[39m\u001b[38;5;124m\"\u001b[39m)\n\u001b[0;32m----> 9\u001b[0m \u001b[43mdeme_1\u001b[49m\u001b[38;5;241;43m.\u001b[39;49m\u001b[43mincorporate_migrants_in_population\u001b[49m\u001b[43m(\u001b[49m\u001b[43mdeme_2\u001b[49m\u001b[38;5;241;43m.\u001b[39;49m\u001b[43moutgoing_migrants\u001b[49m\u001b[43m)\u001b[49m\n\u001b[1;32m     10\u001b[0m deme_2\u001b[38;5;241m.\u001b[39mincorporate_migrants_in_population(deme_1\u001b[38;5;241m.\u001b[39moutgoing_migrants)\n\u001b[1;32m     12\u001b[0m \u001b[38;5;28mprint\u001b[39m(\u001b[38;5;124mf\u001b[39m\u001b[38;5;124m\"\u001b[39m\u001b[38;5;124mThe expected population for deme 1 is \u001b[39m\u001b[38;5;132;01m{\u001b[39;00m\u001b[38;5;241m100\u001b[39m\u001b[38;5;250m \u001b[39m\u001b[38;5;241m-\u001b[39m\u001b[38;5;250m \u001b[39mmigrants_1\u001b[38;5;250m \u001b[39m\u001b[38;5;241m+\u001b[39m\u001b[38;5;250m \u001b[39mmigrants_2\u001b[38;5;132;01m}\u001b[39;00m\u001b[38;5;124m. The actual population is \u001b[39m\u001b[38;5;132;01m{\u001b[39;00mdeme_1\u001b[38;5;241m.\u001b[39mget_population_size()\u001b[38;5;132;01m}\u001b[39;00m\u001b[38;5;124m.\u001b[39m\u001b[38;5;124m\"\u001b[39m)\n",
      "File \u001b[0;32m~/Documents/06_Development/03_GRIDH/ArchaeologyMetapopulations/MetapopulationsPython/metapypulation/subpopulation.py:53\u001b[0m, in \u001b[0;36mSubpopulation.incorporate_migrants_in_population\u001b[0;34m(self, incoming_migrants)\u001b[0m\n\u001b[1;32m     50\u001b[0m \u001b[38;5;28;01mfor\u001b[39;00m individual \u001b[38;5;129;01min\u001b[39;00m incoming_migrants:\n\u001b[1;32m     51\u001b[0m     \u001b[38;5;28mself\u001b[39m\u001b[38;5;241m.\u001b[39mpopulation\u001b[38;5;241m.\u001b[39madd(individual)\n\u001b[0;32m---> 53\u001b[0m \u001b[43mincoming_migrants\u001b[49m\u001b[38;5;241;43m.\u001b[39;49m\u001b[43mempty_set\u001b[49m\u001b[43m(\u001b[49m\u001b[43m)\u001b[49m\n",
      "File \u001b[0;32m~/Documents/06_Development/03_GRIDH/ArchaeologyMetapopulations/MetapopulationsPython/metapypulation/subpopulation.py:140\u001b[0m, in \u001b[0;36mSetOfIndividuals.empty_set\u001b[0;34m(self)\u001b[0m\n\u001b[1;32m    138\u001b[0m \u001b[38;5;28;01mdef\u001b[39;00m \u001b[38;5;21mempty_set\u001b[39m(\u001b[38;5;28mself\u001b[39m) \u001b[38;5;241m-\u001b[39m\u001b[38;5;241m>\u001b[39m \u001b[38;5;28;01mNone\u001b[39;00m:\n\u001b[1;32m    139\u001b[0m     \u001b[38;5;28;01mfor\u001b[39;00m individual \u001b[38;5;129;01min\u001b[39;00m \u001b[38;5;28mself\u001b[39m\u001b[38;5;241m.\u001b[39mindividuals:\n\u001b[0;32m--> 140\u001b[0m         \u001b[38;5;28;43mself\u001b[39;49m\u001b[38;5;241;43m.\u001b[39;49m\u001b[43mdiscard\u001b[49m\u001b[43m(\u001b[49m\u001b[43mindividual\u001b[49m\u001b[43m)\u001b[49m\n",
      "File \u001b[0;32m~/Documents/06_Development/03_GRIDH/ArchaeologyMetapopulations/MetapopulationsPython/metapypulation/subpopulation.py:136\u001b[0m, in \u001b[0;36mSetOfIndividuals.discard\u001b[0;34m(self, individual)\u001b[0m\n\u001b[1;32m    130\u001b[0m \u001b[38;5;28;01mdef\u001b[39;00m \u001b[38;5;21mdiscard\u001b[39m(\u001b[38;5;28mself\u001b[39m, individual: Individual):\n\u001b[1;32m    131\u001b[0m \u001b[38;5;250m    \u001b[39m\u001b[38;5;124;03m\"\"\"Eliminates an individual from the set (and from the population). \u001b[39;00m\n\u001b[1;32m    132\u001b[0m \n\u001b[1;32m    133\u001b[0m \u001b[38;5;124;03m    Args:\u001b[39;00m\n\u001b[1;32m    134\u001b[0m \u001b[38;5;124;03m        individual (Individual): individual to be discarded.\u001b[39;00m\n\u001b[1;32m    135\u001b[0m \u001b[38;5;124;03m    \"\"\"\u001b[39;00m\n\u001b[0;32m--> 136\u001b[0m     \u001b[38;5;28;01mdel\u001b[39;00m \u001b[38;5;28;43mself\u001b[39;49m\u001b[38;5;241;43m.\u001b[39;49m\u001b[43mindividuals\u001b[49m\u001b[43m[\u001b[49m\u001b[43mindividual\u001b[49m\u001b[43m]\u001b[49m\n",
      "\u001b[0;31mTypeError\u001b[0m: list indices must be integers or slices, not Individual"
     ]
    }
   ],
   "source": [
    "# migrate stuff\n",
    "deme_1.list_migrants(0.1)\n",
    "deme_2.list_migrants(0.1)\n",
    "migrants_1 = deme_1.get_current_number_of_migrants()\n",
    "migrants_2 = deme_2.get_current_number_of_migrants()\n",
    "\n",
    "print(f\"There are {migrants_1} migrants from deme 1, and {migrants_2} from deme 2.\")\n",
    "\n",
    "deme_1.incorporate_migrants_in_population(deme_2.outgoing_migrants)\n",
    "deme_2.incorporate_migrants_in_population(deme_1.outgoing_migrants)\n",
    "\n",
    "print(f\"The expected population for deme 1 is {100 - migrants_1 + migrants_2}. The actual population is {deme_1.get_population_size()}.\")\n",
    "print(f\"The expected population for deme 2 is {100 - migrants_2 + migrants_1}. The actual population is {deme_2.get_population_size()}.\")"
   ]
  },
  {
   "cell_type": "code",
   "execution_count": 5,
   "metadata": {},
   "outputs": [],
   "source": [
    "test = deme_1.population.individuals[0]"
   ]
  },
  {
   "cell_type": "code",
   "execution_count": 7,
   "metadata": {},
   "outputs": [
    {
     "ename": "TypeError",
     "evalue": "list indices must be integers or slices, not Individual",
     "output_type": "error",
     "traceback": [
      "\u001b[0;31m---------------------------------------------------------------------------\u001b[0m",
      "\u001b[0;31mTypeError\u001b[0m                                 Traceback (most recent call last)",
      "Cell \u001b[0;32mIn[7], line 1\u001b[0m\n\u001b[0;32m----> 1\u001b[0m \u001b[43mdeme_1\u001b[49m\u001b[38;5;241;43m.\u001b[39;49m\u001b[43mpopulation\u001b[49m\u001b[43m[\u001b[49m\u001b[43mtest\u001b[49m\u001b[43m]\u001b[49m\n",
      "File \u001b[0;32m~/Documents/06_Development/03_GRIDH/ArchaeologyMetapopulations/MetapopulationsPython/metapypulation/subpopulation.py:120\u001b[0m, in \u001b[0;36mSetOfIndividuals.__getitem__\u001b[0;34m(self, item)\u001b[0m\n\u001b[1;32m    110\u001b[0m \u001b[38;5;28;01mdef\u001b[39;00m \u001b[38;5;21m__getitem__\u001b[39m(\u001b[38;5;28mself\u001b[39m, item: \u001b[38;5;28mint\u001b[39m \u001b[38;5;241m|\u001b[39m \u001b[38;5;28mslice\u001b[39m) \u001b[38;5;241m-\u001b[39m\u001b[38;5;241m>\u001b[39m Individual:\n\u001b[1;32m    111\u001b[0m \u001b[38;5;250m    \u001b[39m\u001b[38;5;124;03m\"\"\"\u001b[39;00m\n\u001b[1;32m    112\u001b[0m \u001b[38;5;124;03m    Retrieve an agent or a slice of agents from the SetOfIndividuals. Took from mesa.agent.\u001b[39;00m\n\u001b[1;32m    113\u001b[0m \n\u001b[0;32m   (...)\u001b[0m\n\u001b[1;32m    118\u001b[0m \u001b[38;5;124;03m        Agent | list[Agent]: The selected agent or list of agents based on the index or slice provided.\u001b[39;00m\n\u001b[1;32m    119\u001b[0m \u001b[38;5;124;03m    \"\"\"\u001b[39;00m\n\u001b[0;32m--> 120\u001b[0m     \u001b[38;5;28;01mreturn\u001b[39;00m \u001b[38;5;28;43mlist\u001b[39;49m\u001b[43m(\u001b[49m\u001b[38;5;28;43mself\u001b[39;49m\u001b[38;5;241;43m.\u001b[39;49m\u001b[43mindividuals\u001b[49m\u001b[43m)\u001b[49m\u001b[43m[\u001b[49m\u001b[43mitem\u001b[49m\u001b[43m]\u001b[49m\n",
      "\u001b[0;31mTypeError\u001b[0m: list indices must be integers or slices, not Individual"
     ]
    }
   ],
   "source": [
    "deme_1.population[test]"
   ]
  },
  {
   "cell_type": "code",
   "execution_count": null,
   "metadata": {},
   "outputs": [],
   "source": []
  }
 ],
 "metadata": {
  "kernelspec": {
   "display_name": "abm",
   "language": "python",
   "name": "python3"
  },
  "language_info": {
   "codemirror_mode": {
    "name": "ipython",
    "version": 3
   },
   "file_extension": ".py",
   "mimetype": "text/x-python",
   "name": "python",
   "nbconvert_exporter": "python",
   "pygments_lexer": "ipython3",
   "version": "3.12.3"
  }
 },
 "nbformat": 4,
 "nbformat_minor": 2
}
