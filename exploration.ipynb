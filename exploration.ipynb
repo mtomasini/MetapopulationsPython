{
 "cells": [
  {
   "cell_type": "code",
   "execution_count": 8,
   "metadata": {},
   "outputs": [],
   "source": [
    "import metapypulation.subpopulation\n",
    "import metapypulation.individual\n",
    "import numpy as np\n",
    "import random\n",
    "import matplotlib.pyplot as plt\n"
   ]
  },
  {
   "cell_type": "code",
   "execution_count": 9,
   "metadata": {},
   "outputs": [],
   "source": [
    "deme_1 = metapypulation.subpopulation.Subpopulation(1, [1,1])\n",
    "deme_2 = metapypulation.subpopulation.Subpopulation(2, [1,2])\n",
    "for i in range(100):\n",
    "    individual = metapypulation.individual.Individual(i, 1, 5, 10)\n",
    "    deme_1.population.add(individual)\n",
    "for i in range(100):    \n",
    "    individual = metapypulation.individual.Individual(i, 2, 5, 10)\n",
    "    deme_2.population.add(individual)\n",
    "    \n"
   ]
  },
  {
   "cell_type": "code",
   "execution_count": 10,
   "metadata": {},
   "outputs": [],
   "source": [
    "pop_1 = []\n",
    "pop_2 = []\n",
    "for t in range(0, 10000):\n",
    "# migrate stuff\n",
    "    popsize_1 = deme_1.get_population_size()\n",
    "    pop_1.append(popsize_1)\n",
    "    popsize_2 = deme_2.get_population_size()\n",
    "    pop_2.append(popsize_2)\n",
    "    deme_1.list_migrants(0.1)\n",
    "    deme_2.list_migrants(0.1)\n",
    "    migrants_1 = deme_1.get_current_number_of_migrants()\n",
    "    migrants_2 = deme_2.get_current_number_of_migrants()\n",
    "    \n",
    "    #print(f\"There are {migrants_1} migrants from deme 1, and {migrants_2} from deme 2.\")\n",
    "    \n",
    "    deme_1.incorporate_migrants_in_population(deme_2.outgoing_migrants)\n",
    "    deme_2.incorporate_migrants_in_population(deme_1.outgoing_migrants)\n",
    "    \n",
    "    \n",
    "    \n",
    "    # print(f\"The expected population for deme 1 is {popsize_1 - migrants_1 + migrants_2}. The actual population is {deme_1.get_population_size()}.\")\n",
    "    # print(f\"The expected population for deme 2 is {popsize_2 - migrants_2 + migrants_1}. The actual population is {deme_2.get_population_size()}.\")\n",
    "\n",
    "# \n",
    "\n",
    "\n"
   ]
  },
  {
   "cell_type": "code",
   "execution_count": 1,
   "metadata": {},
   "outputs": [
    {
     "name": "stdout",
     "output_type": "stream",
     "text": [
      "1 2\n",
      "1 3\n",
      "1 4\n",
      "2 1\n",
      "2 3\n",
      "2 4\n",
      "3 1\n",
      "3 2\n",
      "3 4\n",
      "4 1\n",
      "4 2\n",
      "4 3\n"
     ]
    }
   ],
   "source": [
    "from metapypulation.metapopulation import Metapopulation\n",
    "\n",
    "test = Metapopulation(5)\n",
    "test.migrate()"
   ]
  },
  {
   "cell_type": "code",
   "execution_count": null,
   "metadata": {},
   "outputs": [],
   "source": []
  }
 ],
 "metadata": {
  "kernelspec": {
   "display_name": "abm",
   "language": "python",
   "name": "python3"
  },
  "language_info": {
   "codemirror_mode": {
    "name": "ipython",
    "version": 3
   },
   "file_extension": ".py",
   "mimetype": "text/x-python",
   "name": "python",
   "nbconvert_exporter": "python",
   "pygments_lexer": "ipython3",
   "version": "3.12.3"
  }
 },
 "nbformat": 4,
 "nbformat_minor": 2
}
