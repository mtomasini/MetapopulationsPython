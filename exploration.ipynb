{
 "cells": [
  {
   "cell_type": "code",
   "execution_count": 1,
   "metadata": {},
   "outputs": [],
   "source": [
    "import metapypulation.subpopulation\n",
    "import metapypulation.individual\n",
    "import numpy as np\n",
    "import random\n",
    "import matplotlib.pyplot as plt\n",
    "import pandas as pd\n",
    "from metapypulation.metapopulation import Metapopulation\n"
   ]
  },
  {
   "cell_type": "code",
   "execution_count": 2,
   "metadata": {},
   "outputs": [],
   "source": [
    "\n",
    "migrations = np.genfromtxt('./configs/island_model.csv', delimiter=',')\n",
    "\n",
    "migrations = migrations\n",
    "\n",
    "metapop = Metapopulation(4, \"axelrod_interaction\", migrations, carrying_capacities=1000)\n",
    "metapop.populate()"
   ]
  },
  {
   "cell_type": "code",
   "execution_count": 3,
   "metadata": {},
   "outputs": [
    {
     "name": "stdout",
     "output_type": "stream",
     "text": [
      "Gen 0!\n",
      "The current size of pop 0 is 100\n",
      "The current deme index present in population 0 are [0] with [100] counts.\n",
      "The current size of pop 1 is 100\n",
      "The current deme index present in population 1 are [1] with [100] counts.\n",
      "The current size of pop 2 is 100\n",
      "The current deme index present in population 2 are [2] with [100] counts.\n",
      "The current size of pop 3 is 100\n",
      "The current deme index present in population 3 are [3] with [100] counts.\n",
      "Gen 100000!\n",
      "The current size of pop 0 is 103\n",
      "The current deme index present in population 0 are [0 1 2 3] with [36 24 18 25] counts.\n",
      "The current size of pop 1 is 102\n",
      "The current deme index present in population 1 are [0 1 2 3] with [22 22 26 32] counts.\n",
      "The current size of pop 2 is 95\n",
      "The current deme index present in population 2 are [0 1 2 3] with [23 23 25 24] counts.\n",
      "The current size of pop 3 is 100\n",
      "The current deme index present in population 3 are [0 1 2 3] with [19 31 31 19] counts.\n"
     ]
    }
   ],
   "source": [
    "for t in range(200000):\n",
    "    if t%100000 == 0:\n",
    "        print(f\"Gen {t}!\")\n",
    "        for subpopulation in metapop.subpopulations:\n",
    "            print(f\"The current size of pop {subpopulation.id} is {subpopulation.get_population_size()}\")\n",
    "            sub_id = []\n",
    "            for ind in subpopulation.population.individuals:\n",
    "                sub_id.append(ind.original_deme_id)\n",
    "            indexes, counts = np.unique(sub_id, return_counts=True)\n",
    "            print(f\"The current deme index present in population {subpopulation.id} are {indexes} with {counts} counts.\")\n",
    "    \n",
    "    metapop.migrate()\n",
    "    metapop.make_interact()"
   ]
  },
  {
   "cell_type": "code",
   "execution_count": 4,
   "metadata": {},
   "outputs": [
    {
     "name": "stdout",
     "output_type": "stream",
     "text": [
      "[10  5  4  5 10]\n",
      "[10  5  4  5 10]\n",
      "[10  5  4  5  8]\n",
      "[10  5  4  5 10]\n",
      "[10  5  4  5  8]\n",
      "[10  5  4  8  8]\n",
      "[10  5  4  8  8]\n",
      "[10  5  4  5 10]\n",
      "[10  5  4  5  8]\n",
      "[10  5  4  5  8]\n",
      "[10  5  4  8  8]\n",
      "[10  5  4  5  8]\n",
      "[10  5  4  5  8]\n",
      "[10  5  4  8  8]\n",
      "[10  5  4  5 10]\n",
      "[10  5  4  5 10]\n",
      "[10  5  4  5  8]\n",
      "[10  5  4  5 10]\n",
      "[10  5  4  5  8]\n",
      "[10  5  4  5 10]\n",
      "[10  5  4  5  8]\n",
      "[10  5  4  5  8]\n",
      "[10  5  4  5  8]\n",
      "[10  5  4  5 10]\n",
      "[10  5  4  5  8]\n",
      "[10  5  4  5  8]\n",
      "[10  5  4  5 10]\n",
      "[10  5  4  5  8]\n",
      "[10  5  4  5 10]\n",
      "[10  5  4  5 10]\n",
      "[10  5  4  2  8]\n",
      "[10  5  4  5 10]\n",
      "[10  5  4  5 10]\n",
      "[10  5  4  5 10]\n",
      "[10  5  4  2 10]\n",
      "[10  5  4  5 10]\n",
      "[10  5  4  5  8]\n",
      "[10  5  4  5 10]\n",
      "[10  5  4  5  8]\n",
      "[10  5  4  5 10]\n",
      "[10  5  4  5  8]\n",
      "[10  5  4  5 10]\n",
      "[10  5  4  5  8]\n",
      "[10  5  4  5 10]\n",
      "[10  5  4  5 10]\n",
      "[10  5  4  5 10]\n",
      "[10  5  4  5  8]\n",
      "[10  5  4  5 10]\n",
      "[10  5  4  2  8]\n",
      "[10  5  4  5  8]\n",
      "[10  5  4  8  8]\n",
      "[10  5  4  5 10]\n",
      "[10  5  4  5 10]\n",
      "[10  5  4  5 10]\n",
      "[10  5  4  8 10]\n",
      "[10  5  4  5  8]\n",
      "[10  5  4  8 10]\n",
      "[10  5  4  2 10]\n",
      "[10  5  4  5  8]\n",
      "[10  5  4  5  8]\n",
      "[10  5  4  5  8]\n",
      "[10  5  4  5 10]\n",
      "[10  5  4  5  8]\n",
      "[10  5  4  5  8]\n",
      "[10  5  4  2  8]\n",
      "[10  5  4  5  8]\n",
      "[10  5  4  5  8]\n",
      "[10  5  4  5 10]\n",
      "[10  5  4  5  8]\n",
      "[10  5  4  5 10]\n",
      "[10  5  4  5  8]\n",
      "[10  5  4  5  8]\n",
      "[10  5  4  5  8]\n",
      "[10  5  4  5 10]\n",
      "[10  5  4  5  8]\n",
      "[10  5  4  5 10]\n",
      "[10  5  4  5 10]\n",
      "[10  5  4  8 10]\n",
      "[10  5  4  2  8]\n",
      "[10  5  4  5 10]\n",
      "[10  5  4  5 10]\n",
      "[10  5  4  5  8]\n",
      "[10  5  4  8  8]\n",
      "[10  5  4  8 10]\n",
      "[10  5  4  5  8]\n",
      "[10  5  4  5  8]\n",
      "[10  5  4  5 10]\n",
      "[10  5  4  5 10]\n",
      "[10  5  4  5 10]\n",
      "[10  5  4  5 10]\n"
     ]
    }
   ],
   "source": [
    "for individual in metapop.subpopulations[0].population.individuals:\n",
    "    print(individual.features)"
   ]
  }
 ],
 "metadata": {
  "kernelspec": {
   "display_name": "abm",
   "language": "python",
   "name": "python3"
  },
  "language_info": {
   "codemirror_mode": {
    "name": "ipython",
    "version": 3
   },
   "file_extension": ".py",
   "mimetype": "text/x-python",
   "name": "python",
   "nbconvert_exporter": "python",
   "pygments_lexer": "ipython3",
   "version": "3.12.3"
  }
 },
 "nbformat": 4,
 "nbformat_minor": 2
}
